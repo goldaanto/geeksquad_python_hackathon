{
 "cells": [
  {
   "cell_type": "code",
   "execution_count": 6,
   "id": "5b69b3e9-1990-42fb-8490-853fa602f2da",
   "metadata": {
    "scrolled": true
   },
   "outputs": [
    {
     "name": "stdout",
     "output_type": "stream",
     "text": [
      "203.0\n"
     ]
    }
   ],
   "source": [
    "18: Who is the tallest participant in the dataset?What is  his/her Vo2 kg/ml?\n",
    "import pandas as pd\n",
    "df1 = pd.read_csv(\"subject-info.csv\")\n",
    "df2 = pd.read_csv(\"test_measure.csv\")\n",
    "Max_height = df1['Height'].max()\n",
    "print(Max_height)\n",
    "\n"
   ]
  },
  {
   "cell_type": "code",
   "execution_count": null,
   "id": "7a0a5308-ccad-455e-b507-a90c5c73098d",
   "metadata": {},
   "outputs": [],
   "source": [
    "19: import pandas as pd\n",
    "df2 = pd.read_csv(\"test_measure.csv\")\n",
    "Max_height = df2['HR'].max()\n",
    "print(Max_height)\n",
    "\n"
   ]
  },
  {
   "cell_type": "code",
   "execution_count": null,
   "id": "949ee6ee-3acb-40ab-ad07-8075b84ead2b",
   "metadata": {},
   "outputs": [],
   "source": [
    "20: What is the VO2 max(mL/kg/min) of the shortest male athlete?\n",
    "df1 = pd.read_csv(\"subject-info.csv\")\n",
    "df2 = pd.read_csv(\"test_measure.csv\")\n",
    "Male_ath = df1[df1['Sex'] ==1]\n",
    "shortest_male_ath = Male_ath.loc[Male_ath['Height'].idxmin()]\n",
    "shortest_male_id = shortest_male_ath['ID']\n",
    "shortest_male_data = df2[df2['ID']==shortest_male_id]\n",
    "max_vo2 = shortest_male_data['VO2'].max()/shortest_male_ath['Weight']\n",
    "print(max_vo2)"
   ]
  },
  {
   "cell_type": "code",
   "execution_count": null,
   "id": "db0dba18-4059-4b55-a97f-8dffcb3ca64d",
   "metadata": {},
   "outputs": [],
   "source": [
    "21: Analyze the mean VO2 and VCO2 values by humidity level using a Multiseries Bar Chart.\n",
    "Based on your findings, how does low humidity affect respiratory and cardiovascular function during exercise (VO2 and VCO2) ?\n",
    "Humidity level (<30 - Low) , (30 to 60 - Normal ) ,(>60 - High)\n",
    "\n",
    "import pandas as pd\n",
    "import matplotlib.pyplot as plt\n",
    "\n",
    "df1 = pd.read_csv(\"subject-info.csv\")\n",
    "df2 = pd.read_csv(\"test_measure.csv\")\n",
    "\n",
    "merged_df = pd.merge(df2, df1, on='ID_test')\n",
    "def humidity_level(humidity):\n",
    " if humidity < 30:\n",
    "    return 'Low'\n",
    " elif 30 <= humidity <= 60:\n",
    "    return 'Normal'\n",
    " else:\n",
    "    return 'High'\n",
    "\n",
    "merged_df['Humidity_Level'] = merged_df['Humidity'].apply(humidity_level)\n",
    "\n",
    "mean_values = merged_df.groupby('Humidity_Level')[['VO2', 'VCO2']].mean()\n",
    "\n",
    "mean_values.plot(kind='bar')\n",
    "plt.title('Mean VO2 and VCO2 Values by Humidity Level')\n",
    "plt.xlabel('Humidity Level')\n",
    "plt.ylabel('Mean Values')\n",
    "plt.xticks(rotation=0)\n",
    "plt.legend(['VO2', 'VCO2'])\n",
    "plt.show()\n",
    "\n",
    "print(mean_values)"
   ]
  },
  {
   "cell_type": "code",
   "execution_count": null,
   "id": "e7add9fc-fd65-4c08-a380-6eda9d910424",
   "metadata": {},
   "outputs": [],
   "source": [
    "22: Display the average speed of each participant  in ' peak exercise' based on RER(Following question no.14)\n",
    "import pandas as pd\n",
    "\n",
    "df1 = pd.read_csv(\"subject-info.csv\")\n",
    "df2 = pd.read_csv(\"test_measure.csv\")\n",
    "\n",
    "merged_df = pd.merge(df2, df1, on='ID')\n",
    "merged_df['RER'] = merged_df['VCO2'] / merged_df['VO2']\n",
    "\n",
    "peak_exercise_df = merged_df[merged_df['RER'] > 1.0]\n",
    "\n",
    "average_speed_df = peak_exercise_df.groupby('ID')['Speed'].mean()\n",
    "\n",
    "print(average_speed_df)"
   ]
  },
  {
   "cell_type": "code",
   "execution_count": null,
   "id": "9fc4b52c-a0a6-43a8-a791-213b6f4b253b",
   "metadata": {},
   "outputs": [],
   "source": [
    "24: Find the athlete who has got optimal respiratory stability based on the measure of  Breathing Interval variability over time.\n",
    "import pandas as pd\n",
    "import plotly.express as px\n",
    "\n",
    "\n",
    "df1 = pd.read_csv(\"subject-info.csv\")\n",
    "df2 = pd.read_csv(\"test_measure.csv\")\n",
    "\n",
    "\n",
    "df2['Breathing_Interval'] = 60 / df2['RR']\n",
    "\n",
    "# Calculate the variability of Breathing Interval over time for each athlete\n",
    "bi_variability = df2.groupby('ID')['Breathing_Interval'].std()\n",
    "\n",
    "# Find the athlete with the lowest variability in Breathing Interval (optimal respiratory stability)\n",
    "optimal_respiratory_stability_athlete = bi_variability.idxmin()\n",
    "\n",
    "print(optimal_respiratory_stability_athlete)"
   ]
  },
  {
   "cell_type": "code",
   "execution_count": null,
   "id": "74ac173c-00ad-4c7e-a88e-7320e58e9b53",
   "metadata": {},
   "outputs": [],
   "source": [
    "25: Generate a pie chart to show the gender-wise distribution of athletes.\n",
    "import pandas as pd\n",
    "import matplotlib.pyplot as plt\n",
    "\n",
    "df1 = pd.read_csv(\"subject-info.csv\")\n",
    "df2 = pd.read_csv(\"test_measure.csv\")\n",
    "\n",
    "\n",
    "gender_counts = df1['Sex'].value_counts()\n",
    "labels = ['Male', 'Female']\n",
    "\n",
    "plt.pie(gender_counts, labels=labels, autopct='%1.1f%%', startangle=140)\n",
    "plt.title('Gender-wise Distribution of Athletes')\n",
    "plt.axis('equal')\n",
    "plt.show()"
   ]
  },
  {
   "cell_type": "code",
   "execution_count": null,
   "id": "d2fe2592-9b3a-40e1-8e67-b697bd51000d",
   "metadata": {},
   "outputs": [],
   "source": [
    "26: Use enumeration to print ID, Sex, and BMI of each athlete.\n",
    "import pandas as pd\n",
    "\n",
    "df1 = pd.read_csv(\"subject-info.csv\")\n",
    "df2 = pd.read_csv(\"test_measure.csv\")\n",
    "\n",
    "\n",
    "df1['BMI'] = df1['Weight'] / (df1['Height'] / 100) ** 2\n",
    "\n",
    "for index, row in enumerate(df1.itertuples(), start=1):\n",
    "    print(f\"ID: {row.ID}, Sex: {row.Sex}, BMI: {row.BMI:.2f}\")\n"
   ]
  },
  {
   "cell_type": "code",
   "execution_count": null,
   "id": "a2f47a5e-7afc-4bc9-bbf1-83134d7a0500",
   "metadata": {},
   "outputs": [],
   "source": [
    "28: Create a dictionary using any 5 random Athletes ID and their height. Access any one height using the Athlete ID with get() function. \n",
    "athletes_dict = {\n",
    " 527: 174.0,\n",
    " 607: 188.8,\n",
    "312: 170.0,\n",
    " 11: 150.0,\n",
    " 829: 160.0\n",
    "}\n",
    "\n",
    "athlete_id = int(input(\"Enter the athlete ID:\"))\n",
    "height = athletes_dict.get(athlete_id)\n",
    "print(height)"
   ]
  },
  {
   "cell_type": "code",
   "execution_count": null,
   "id": "b9f28fcd-5ca3-4777-9568-bbb586f62683",
   "metadata": {},
   "outputs": [],
   "source": [
    "29: Create a dictionary using any 5 random Athletes ID and their height. Access any one height using the Athlete ID with get() function. \n",
    "import pandas as pd\n",
    "\n",
    "df1 = pd.read_csv(\"subject-info.csv\")\n",
    "df2 = pd.read_csv(\"test_measure.csv\")\n",
    "\n",
    "\n",
    "df1['BMI'] = df1['Weight'] / (df1['Height'] / 100) ** 2\n",
    "\n",
    "age_ranges = [(10, 15), (15, 20), (20, 25), (25, 30), (30, 35), (35, 40), (40, 45), (45, 50), (50, 55), (55, 60)]\n",
    "\n",
    "age_range_counts = {f\"{age_range[0]}-{age_range[1]}\": 0 for age_range in age_ranges}\n",
    "\n",
    "for _, row in df1.iterrows():\n",
    "    if row['BMI'] >= 30:\n",
    "       for age_range in age_ranges:\n",
    "            if age_range[0] <= row['Age'] < age_range[1]:\n",
    "                age_range_counts[f\"{age_range[0]}-{age_range[1]}\"] += 1\n",
    "                break\n",
    "\n",
    "max_age_range = max(age_range_counts, key=age_range_counts.get)\n",
    "\n",
    "print(f\"The age range with the highest number of obese athletes is {max_age_range} with {age_range_counts[max_age_range]} obese athletes.\")\n"
   ]
  },
  {
   "cell_type": "code",
   "execution_count": null,
   "id": "f1da98fe-389e-424e-806c-416666655a29",
   "metadata": {},
   "outputs": [],
   "source": [
    "30: Find which age range has the highest number of obese athletes.\n",
    "import pandas as pd\n",
    "\n",
    "df1 = pd.read_csv(\"subject-info.csv\")\n",
    "df2 = pd.read_csv(\"test_measure.csv\")\n",
    "\n",
    "\n",
    "df1['BMI'] = df1['Weight'] / (df1['Height'] / 100) ** 2\n",
    "\n",
    "age_ranges = [(10, 15), (15, 20), (20, 25), (25, 30), (30, 35), (35, 40), (40, 45), (45, 50), (50, 55), (55, 60)]\n",
    "\n",
    "age_range_counts = {f\"{age_range[0]}-{age_range[1]}\": 0 for age_range in age_ranges}\n",
    "\n",
    "for _, row in df1.iterrows():\n",
    "    if row['BMI'] >= 30:\n",
    "       for age_range in age_ranges:\n",
    "            if age_range[0] <= row['Age'] < age_range[1]:\n",
    "                age_range_counts[f\"{age_range[0]}-{age_range[1]}\"] += 1\n",
    "                break\n",
    "\n",
    "max_age_range = max(age_range_counts, key=age_range_counts.get)\n",
    "\n",
    "print(f\"The age range with the highest number of obese athletes is {max_age_range} with {age_range_counts[max_age_range]} obese athletes.\")\n"
   ]
  },
  {
   "cell_type": "code",
   "execution_count": null,
   "id": "f50f74ad-5369-4180-8334-cbbf214ab22f",
   "metadata": {},
   "outputs": [],
   "source": [
    "31: Calculate the Tidal volume of every athlete and display it as a list.\n",
    "import pandas as pd\n",
    "\n",
    "\n",
    "df1 = pd.read_csv(\"subject-info.csv\")\n",
    "df2 = pd.read_csv(\"test_measure.csv\")\n",
    "\n",
    "\n",
    "# Calculate Tidal Volume (TV) for each athlete\n",
    "# Tidal Volume (TV) = VE / RR\n",
    "df2['Tidal_Volume'] = df2['VE'] / df2['RR']\n",
    "\n",
    "# Display the Tidal Volume as a list\n",
    "tidal_volume_list = df2[['ID', 'Tidal_Volume']].drop_duplicates().values.tolist()\n",
    "\n",
    "print(tidal_volume_list)"
   ]
  },
  {
   "cell_type": "code",
   "execution_count": null,
   "id": "652e2c37-8bbb-4a55-8f9f-100b5f6095e8",
   "metadata": {},
   "outputs": [],
   "source": [
    "32: create a Pivot table to summarize the count of each HR Zone\n",
    "import pandas as pd\n",
    "import matplotlib.pyplot as plt\n",
    "\n",
    "df1 = pd.read_csv(\"subject-info.csv\")\n",
    "df2 = pd.read_csv(\"test_measure.csv\")\n",
    "\n",
    "merged_df = pd.merge(df2, df1, on='ID')\n",
    "\n",
    "def hr_zone(hr):\n",
    "    if hr < 100:\n",
    "        return 'Zone 1'\n",
    "    elif 100 <= hr < 120:\n",
    "        return 'Zone 2'\n",
    "    elif 120 <= hr < 140:\n",
    "        return 'Zone 3'\n",
    "    elif 140 <= hr < 160:\n",
    "        return 'Zone 4'\n",
    "    else:\n",
    "        return 'Zone 5'\n",
    "\n",
    "merged_df['HR_Zone'] = merged_df['HR'].apply(hr_zone)\n",
    "\n",
    "pivot_table = pd.pivot_table(merged_df, values='ID', index='HR_Zone', aggfunc='count')\n",
    "\n",
    "print(pivot_table)\n"
   ]
  }
 ],
 "metadata": {
  "kernelspec": {
   "display_name": "Python 3 (ipykernel)",
   "language": "python",
   "name": "python3"
  },
  "language_info": {
   "codemirror_mode": {
    "name": "ipython",
    "version": 3
   },
   "file_extension": ".py",
   "mimetype": "text/x-python",
   "name": "python",
   "nbconvert_exporter": "python",
   "pygments_lexer": "ipython3",
   "version": "3.12.4"
  }
 },
 "nbformat": 4,
 "nbformat_minor": 5
}
