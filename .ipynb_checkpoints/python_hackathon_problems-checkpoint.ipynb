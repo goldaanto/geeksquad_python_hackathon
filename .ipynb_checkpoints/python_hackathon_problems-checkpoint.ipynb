{
 "cells": [
  {
   "cell_type": "code",
   "execution_count": 21,
   "id": "0dcc8cfd",
   "metadata": {},
   "outputs": [
    {
     "name": "stdout",
     "output_type": "stream",
     "text": [
      "The Average Age of Female athelets 26.04\n"
     ]
    }
   ],
   "source": [
    "#1 What is the average age of Female athletes who participated in this graded exercise tests?\n",
    "import pandas as pd\n",
    "\n",
    "df1 = pd.read_csv(\"subject-info.csv\")\n",
    "\n",
    "dfFemale = pd.DataFrame()\n",
    "dfFemale =df1[df1[\"Sex\"]==1]\n",
    "meanAge = dfFemale[\"Age\"].mean()\n",
    "\n",
    "print(\"The Average Age of Female athelets\",round(meanAge,2))"
   ]
  },
  {
   "cell_type": "code",
<<<<<<< HEAD
   "execution_count": null,
   "id": "79f41ec7",
   "metadata": {},
=======
   "execution_count": 23,
   "id": "79f41ec7",
   "metadata": {},
   "outputs": [
    {
     "data": {
      "text/plain": [
       "Text(0, 0.5, 'No of Athlets')"
      ]
     },
     "execution_count": 23,
     "metadata": {},
     "output_type": "execute_result"
    },
    {
     "data": {
      "image/png": "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\n",
      "text/plain": [
       "<Figure size 576x360 with 1 Axes>"
      ]
     },
     "metadata": {
      "needs_background": "light"
     },
     "output_type": "display_data"
    }
   ],
   "source": [
    "#2 Visualize age distribution of all athletes and display the median value in the chart\n",
    "import matplotlib.pyplot as plt\n",
    "median = df1[\"Age\"].median()\n",
    "plt.figure(figsize=(8, 5))\n",
    "plt.hist(df1['Age'], bins=5, color='pink', edgecolor='black')\n",
    "plt.axvline(median, color='green', linestyle='--', label=f'Median Age: {median}')\n",
    "plt.title(\"Age Distribution\")\n",
    "plt.xlabel('Age')\n",
    "plt.ylabel('No of Athlets')\n"
   ]
  },
  {
   "cell_type": "code",
   "execution_count": null,
   "id": "98f24df1",
   "metadata": {},
>>>>>>> f8137ec25766eff718173c668d1aef08f6a5343e
   "outputs": [],
   "source": []
  }
 ],
 "metadata": {
  "kernelspec": {
   "display_name": "Python 3 (ipykernel)",
   "language": "python",
   "name": "python3"
  },
  "language_info": {
   "codemirror_mode": {
    "name": "ipython",
    "version": 3
   },
   "file_extension": ".py",
   "mimetype": "text/x-python",
   "name": "python",
   "nbconvert_exporter": "python",
   "pygments_lexer": "ipython3",
   "version": "3.9.7"
  }
 },
 "nbformat": 4,
 "nbformat_minor": 5
}
