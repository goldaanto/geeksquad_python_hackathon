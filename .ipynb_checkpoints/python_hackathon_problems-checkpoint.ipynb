{
 "cells": [
  {
   "cell_type": "code",
   "execution_count": 21,
   "id": "0dcc8cfd",
   "metadata": {},
   "outputs": [
    {
     "name": "stdout",
     "output_type": "stream",
     "text": [
      "The Average Age of Female athelets 26.04\n"
     ]
    }
   ],
   "source": [
    "#1 What is the average age of Female athletes who participated in this graded exercise tests?\n",
    "import pandas as pd\n",
    "\n",
    "df1 = pd.read_csv(\"subject-info.csv\")\n",
    "\n",
    "dfFemale = pd.DataFrame()\n",
    "dfFemale =df1[df1[\"Sex\"]==1]\n",
    "meanAge = dfFemale[\"Age\"].mean()\n",
    "\n",
    "print(\"The Average Age of Female athelets\",round(meanAge,2))"
   ]
  },
  {
   "cell_type": "code",
   "execution_count": null,
   "id": "79f41ec7",
   "metadata": {},
   "outputs": [],
   "source": [
    "#2 Visualize age distribution of all athletes and display the median value in the chart\n",
    "import matplotlib.pyplot as plt\n",
    "median = dfSubject[\"Age\"].median()\n",
    "plt.figure(figsize=(8, 5))\n",
    "plt.hist(df['Age'], bins=5, color='pink', edgecolor='black')\n",
    "plt.axvline(median, color='green', linestyle='--', label=f'Median Age: {median}')\n",
    "plt.title(\"Age Distribution\")\n",
    "plt.xlabel('Age')\n",
    "plt.ylabel('No of Athlets')\n",
    "plt.legend()\n",
    "plt.show()"
   ]
  }
 ],
 "metadata": {
  "kernelspec": {
   "display_name": "Python 3 (ipykernel)",
   "language": "python",
   "name": "python3"
  },
  "language_info": {
   "codemirror_mode": {
    "name": "ipython",
    "version": 3
   },
   "file_extension": ".py",
   "mimetype": "text/x-python",
   "name": "python",
   "nbconvert_exporter": "python",
   "pygments_lexer": "ipython3",
   "version": "3.9.7"
  }
 },
 "nbformat": 4,
 "nbformat_minor": 5
}
