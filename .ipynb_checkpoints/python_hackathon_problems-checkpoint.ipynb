{
 "cells": [
  {
   "cell_type": "code",
   "execution_count": 21,
   "id": "0dcc8cfd",
   "metadata": {},
   "outputs": [
    {
     "name": "stdout",
     "output_type": "stream",
     "text": [
      "The Average Age of Female athelets 26.04\n"
     ]
    }
   ],
   "source": [
    "#1 What is the average age of Female athletes who participated in this graded exercise tests?\n",
    "import pandas as pd\n",
    "\n",
    "df1 = pd.read_csv(\"subject-info.csv\")\n",
    "\n",
    "dfFemale = pd.DataFrame()\n",
    "dfFemale =df1[df1[\"Sex\"]==1]\n",
    "meanAge = dfFemale[\"Age\"].mean()\n",
    "\n",
    "print(\"The Average Age of Female athelets\",round(meanAge,2))"
   ]
  },
  {
   "cell_type": "code",
   "execution_count": null,
   "id": "79f41ec7",
   "metadata": {},
   "outputs": [],
   "source": []
  }
 ],
 "metadata": {
  "kernelspec": {
   "display_name": "Python 3 (ipykernel)",
   "language": "python",
   "name": "python3"
  },
  "language_info": {
   "codemirror_mode": {
    "name": "ipython",
    "version": 3
   },
   "file_extension": ".py",
   "mimetype": "text/x-python",
   "name": "python",
   "nbconvert_exporter": "python",
   "pygments_lexer": "ipython3",
   "version": "3.9.7"
  }
 },
 "nbformat": 4,
 "nbformat_minor": 5
}
