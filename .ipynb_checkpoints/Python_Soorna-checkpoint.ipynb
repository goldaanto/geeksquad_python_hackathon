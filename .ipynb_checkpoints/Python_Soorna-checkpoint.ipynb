{
 "cells": [
  {
   "cell_type": "code",
   "execution_count": 3,
   "id": "42c4ba82-dbe2-4009-a472-d89a38df3952",
   "metadata": {},
   "outputs": [],
   "source": [
    "import pandas as pd\n",
    "import numpy as np\n",
    "import plotly.express as px\n",
    "import seaborn as sns\n",
    "import matplotlib.pyplot as plt"
   ]
  },
  {
   "cell_type": "code",
   "execution_count": 5,
   "id": "5f6924d1-0349-4b1f-a1f9-89350bedc6ca",
   "metadata": {},
   "outputs": [],
   "source": [
    "df1=pd.read_csv(r\"C:\\Users\\soorn\\Downloads\\test_measure.csv\")"
   ]
  },
  {
   "cell_type": "code",
   "execution_count": 7,
   "id": "6132ee7f-ec85-4d2b-b22d-1affe840f5f7",
   "metadata": {},
   "outputs": [],
   "source": [
    "df2=pd.read_csv(r\"C:\\Users\\soorn\\Downloads\\subject-info.csv\")"
   ]
  },
  {
   "cell_type": "code",
   "execution_count": 9,
   "id": "71527aa0-3358-4efa-b04e-dc7fc6b0dec0",
   "metadata": {},
   "outputs": [
    {
     "name": "stdout",
     "output_type": "stream",
     "text": [
      "Original array:\n",
      " [[ 0  1  2  3]\n",
      " [ 4  5  6  7]\n",
      " [ 8  9 10 11]]\n",
      "\n",
      "Modified array:\n",
      " [[  0   1   4   3]\n",
      " [ 16   5  36   7]\n",
      " [ 64   9 100  11]]\n"
     ]
    }
   ],
   "source": [
    "#34.create an array ,\n",
    "#np.arange(12).reshape(3,4).Replace the array elements with their square values if the element is an even number. Keep the odd numbers as such. \n",
    "#Display the resulting array.\n",
    "\n",
    "\n",
    "arr = np.arange(12).reshape(3, 4)\n",
    "\n",
    "result = np.where(arr % 2 == 0, arr**2, arr)\n",
    "\n",
    "print(\"Original array:\\n\", arr)\n",
    "print(\"\\nModified array:\\n\", result)"
   ]
  },
  {
   "cell_type": "code",
   "execution_count": null,
   "id": "b3bc2648-01a0-4fb8-8571-33289b058196",
   "metadata": {},
   "outputs": [],
   "source": []
  }
 ],
 "metadata": {
  "kernelspec": {
   "display_name": "Python [conda env:base] *",
   "language": "python",
   "name": "conda-base-py"
  },
  "language_info": {
   "codemirror_mode": {
    "name": "ipython",
    "version": 3
   },
   "file_extension": ".py",
   "mimetype": "text/x-python",
   "name": "python",
   "nbconvert_exporter": "python",
   "pygments_lexer": "ipython3",
   "version": "3.12.7"
  }
 },
 "nbformat": 4,
 "nbformat_minor": 5
}
