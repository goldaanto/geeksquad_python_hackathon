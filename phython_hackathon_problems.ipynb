{
 "cells": [
  {
   "cell_type": "code",
   "execution_count": null,
   "id": "0dcc8cfd",
   "metadata": {},
   "outputs": [],
   "source": [
    "#1 What is the average age of Female athletes who participated in this graded exercise tests?\n",
    "import pandas as pd\n",
    "\n",
    "df1 = pd.read_csv(\"subject-info.csv\")\n",
    "dfFemale =df[dfSubject[\"Sex\"]==1]\n",
    "meanAge = dfFemale[\"Age\"].mean()\n",
    "\n",
    "print(\"The Average Age of Female athelets\",round(meanAge,2))\n"
   ]
  }
 ],
 "metadata": {
  "kernelspec": {
   "display_name": "Python 3 (ipykernel)",
   "language": "python",
   "name": "python3"
  },
  "language_info": {
   "codemirror_mode": {
    "name": "ipython",
    "version": 3
   },
   "file_extension": ".py",
   "mimetype": "text/x-python",
   "name": "python",
   "nbconvert_exporter": "python",
   "pygments_lexer": "ipython3",
   "version": "3.9.7"
  }
 },
 "nbformat": 4,
 "nbformat_minor": 5
}
