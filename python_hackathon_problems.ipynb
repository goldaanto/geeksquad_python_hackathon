{
 "cells": [
  {
   "cell_type": "code",
   "execution_count": 3,
   "id": "b3d71ba2-cf1e-41d5-9a89-e8aa4b2e2b34",
   "metadata": {},
   "outputs": [],
   "source": [
    "import pandas as pd\n",
    "import numpy as np\n",
    "import plotly.express as px\n",
    "import seaborn as sns\n",
    "import matplotlib.pyplot as plt"
   ]
  },
  {
   "cell_type": "code",
   "execution_count": 7,
   "id": "77ba1c9e-d8c0-46c7-9449-6f0b7c5dd625",
   "metadata": {},
   "outputs": [],
   "source": [
    "df1=pd.read_csv('subject-info.csv')\n",
    "\n",
    "df2=pd.read_csv('test_measure.csv')\n",
    "\n",
    "merged_df=pd.merge(df1, df2, on=['ID','ID_test'],how='outer')"
   ]
  },
  {
   "cell_type": "code",
   "execution_count": 21,
   "id": "0dcc8cfd",
   "metadata": {},
   "outputs": [
    {
     "name": "stdout",
     "output_type": "stream",
     "text": [
      "The Average Age of Female athelets 26.04\n"
     ]
    }
   ],
   "source": [
    "#1 What is the average age of Female athletes who participated in this graded exercise tests?\n",
    "import pandas as pd\n",
    "\n",
    "df1 = pd.read_csv(\"subject-info.csv\")\n",
    "\n",
    "dfFemale = pd.DataFrame()\n",
    "dfFemale =df1[df1[\"Sex\"]==1]\n",
    "meanAge = dfFemale[\"Age\"].mean()\n",
    "\n",
    "print(\"The Average Age of Female athelets\",round(meanAge,2))"
   ]
  },
  {
   "cell_type": "code",
   "execution_count": 25,
   "id": "79f41ec7",
   "metadata": {},
   "outputs": [
    {
     "data": {
      "image/png": "[encoded data removed]",
      "text/plain": [
       "<Figure size 576x360 with 1 Axes>"
      ]
     },
     "metadata": {
      "needs_background": "light"
     },
     "output_type": "display_data"
    }
   ],
   "source": [
    "#2 Visualize age distribution of all athletes and display the median value in the chart\n",
    "import matplotlib.pyplot as plt\n",
    "median = df1[\"Age\"].median()\n",
    "plt.figure(figsize=(8, 5))\n",
    "plt.hist(df1['Age'], bins=5, color='pink', edgecolor='black')\n",
    "plt.axvline(median, color='green', linestyle='--', label=f'Median Age: {median}')\n",
    "plt.title(\"Age Distribution\")\n",
    "plt.xlabel('Age')\n",
    "plt.ylabel('No of Athlets')\n",
    "plt.legend()\n",
    "plt.show()\n"
   ]
  },
  {
   "cell_type": "code",
   "execution_count": 9,
   "id": "3df705a4",
   "metadata": {},
   "outputs": [
    {
     "name": "stdout",
     "output_type": "stream",
     "text": [
      "Percentage of male athletes faster than the fastest female: 0.74%\n"
     ]
    }
   ],
   "source": [
    "#65.Calculate the percentage of male athletes who exceeded, the maximum treadmill speed of female athletes .\n",
    "\n",
    "# Finding max speed of female athletes\n",
    "max_female_speed = merged_df[merged_df['Sex'] == 1]['Speed'].max()\n",
    "\n",
    "# Finding male athletes count\n",
    "male_athletes = merged_df[merged_df['Sex'] == 0]\n",
    "\n",
    "# Finding males who are faster than the max female speed\n",
    "males_faster_female =  merged_df[(merged_df['Sex'] == 0) & (merged_df['Speed'] > max_female_speed)]\n",
    "\n",
    "# Calculate percentage \n",
    "percent_males_faster_female = (len(males_faster_female) / len(male_athletes)) * 100\n",
    "\n",
    "print(f'Percentage of male athletes faster than the fastest female: {percent_males_faster_female:.2f}%')"
   ]
  },
  {
   "cell_type": "code",
   "execution_count": null,
   "id": "b4de0db4-44ed-4966-8fae-db0d55eaae4c",
   "metadata": {},
   "outputs": [],
   "source": []
  }
 ],
 "metadata": {
  "kernelspec": {
   "display_name": "Python [conda env:base] *",
   "language": "python",
   "name": "conda-base-py"
  },
  "language_info": {
   "codemirror_mode": {
    "name": "ipython",
    "version": 3
   },
   "file_extension": ".py",
   "mimetype": "text/x-python",
   "name": "python",
   "nbconvert_exporter": "python",
   "pygments_lexer": "ipython3",
   "version": "3.12.7"
  }
 },
 "nbformat": 4,
 "nbformat_minor": 5
}
